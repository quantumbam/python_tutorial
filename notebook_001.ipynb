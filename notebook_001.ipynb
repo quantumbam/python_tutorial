{
 "cells": [
  {
   "cell_type": "markdown",
   "id": "ea561637",
   "metadata": {},
   "source": [
    "# <h1>2: Multi Line Execution 4: Single Line Execution</h1>\n",
    "\n",
    "a and b are both variables where words and/or numbers can be stored. The 3 values you will mostly store in a variable are <a href=\"https://www.geeksforgeeks.org/python-strings/\" target=\"_\">strings</a>, <a href=\"https://www.w3schools.com/python/python_numbers.asp\" target=\"_\">integers</a>, and <a href=\"https://docs.python.org/3/tutorial/floatingpoint.html\" target=\"_\">floats</a>. A string is a word made of characters a-z, 0-9, and special characters like @ * &.<br>\n",
    "* It's important to know that you can store variables in another variable using its name. So saying a=b would make a=2\n",
    "* When storing words you must surround them using <a href=\"https://www.geeksforgeeks.org/single-and-double-quotes-python/\" target=\"_\"> double \" \" quotes or single ' ' quotes</a> "
   ]
  },
  {
   "cell_type": "code",
   "execution_count": 2,
   "id": "8f622739",
   "metadata": {},
   "outputs": [
    {
     "data": {
      "text/plain": [
       "3"
      ]
     },
     "execution_count": 2,
     "metadata": {},
     "output_type": "execute_result"
    }
   ],
   "source": [
    "a = 1 \n",
    "b = 2\n",
    "a+b"
   ]
  },
  {
   "cell_type": "code",
   "execution_count": 4,
   "id": "edf970fa",
   "metadata": {},
   "outputs": [
    {
     "data": {
      "text/plain": [
       "3"
      ]
     },
     "execution_count": 4,
     "metadata": {},
     "output_type": "execute_result"
    }
   ],
   "source": [
    "c = a+b;c"
   ]
  },
  {
   "cell_type": "markdown",
   "id": "a0d74f7c",
   "metadata": {},
   "source": [
    "### <h1>5: Function With 2 Arguments</h1>\n",
    "You may name your function anything you want with these <a href=\"https://www.dummies.com/article/technology/programming-web-design/python/how-to-name-functions-in-python-139550\" target=\"_\">exceptions</a>"
   ]
  },
  {
   "cell_type": "code",
   "execution_count": 5,
   "id": "14b3f3e6",
   "metadata": {},
   "outputs": [
    {
     "data": {
      "text/plain": [
       "3"
      ]
     },
     "execution_count": 5,
     "metadata": {},
     "output_type": "execute_result"
    }
   ],
   "source": [
    "def function(a,b):\n",
    "    return a+b\n",
    "\n",
    "function(1,2)"
   ]
  },
  {
   "cell_type": "markdown",
   "id": "3c7ef27f",
   "metadata": {},
   "source": [
    "## <h1><a href=\"https://www.dummies.com/article/technology/programming-web-design/python/how-to-name-functions-in-python-139550\" target=\"_\">Markdown</a> comments can be made into HTML Elements</h1>\n",
    "* You're reading a markdown right now. These are a popular way of explaining code in jupyter notebooks. You may also write comments around the Python code using #"
   ]
  },
  {
   "cell_type": "code",
   "execution_count": 11,
   "id": "001081a9",
   "metadata": {},
   "outputs": [
    {
     "data": {
      "text/plain": [
       "2"
      ]
     },
     "execution_count": 11,
     "metadata": {},
     "output_type": "execute_result"
    }
   ],
   "source": [
    "#this is a comment\n",
    "#it will not execute a=b;a\n",
    "#unless you write a=b;a without the pound symbol, also known as a hastag\n",
    "a=b;a"
   ]
  },
  {
   "cell_type": "code",
   "execution_count": null,
   "id": "9e5fd2b6",
   "metadata": {},
   "outputs": [],
   "source": []
  }
 ],
 "metadata": {
  "kernelspec": {
   "display_name": "Python 3 (ipykernel)",
   "language": "python",
   "name": "python3"
  },
  "language_info": {
   "codemirror_mode": {
    "name": "ipython",
    "version": 3
   },
   "file_extension": ".py",
   "mimetype": "text/x-python",
   "name": "python",
   "nbconvert_exporter": "python",
   "pygments_lexer": "ipython3",
   "version": "3.9.7"
  }
 },
 "nbformat": 4,
 "nbformat_minor": 5
}
