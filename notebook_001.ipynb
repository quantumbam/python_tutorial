{
 "cells": [
  {
   "cell_type": "markdown",
   "id": "0474d54f",
   "metadata": {},
   "source": [
    "# <h1>2: Multi Line Execution 4: Single Line Execution</h1>\n",
    "\n",
    "a and b are both variables where words and/or numbers can be stored. The 3 values you will mostly store in a variable are <a href=\"https://www.geeksforgeeks.org/python-strings/\" target=\"_\">strings</a>, <a href=\"https://www.w3schools.com/python/python_numbers.asp\" target=\"_\">integers</a>, and <a href=\"https://docs.python.org/3/tutorial/floatingpoint.html\" target=\"_\">floats</a>. When storing strings you must surround them using <a href=\"https://www.geeksforgeeks.org/single-and-double-quotes-python/\" target=\"_\"> double \" \" quotes or single ' ' quotes</a> <br>\n",
    "* It's important to know that you can store variables in another variable using its name. So saying a=b would make a=2\n"
   ]
  },
  {
   "cell_type": "code",
   "execution_count": 2,
   "id": "c18ebb3f",
   "metadata": {},
   "outputs": [
    {
     "data": {
      "text/plain": [
       "3"
      ]
     },
     "execution_count": 2,
     "metadata": {},
     "output_type": "execute_result"
    }
   ],
   "source": [
    "a = 1 \n",
    "b = 2\n",
    "a+b"
   ]
  },
  {
   "cell_type": "code",
   "execution_count": 4,
   "id": "121d587c",
   "metadata": {},
   "outputs": [
    {
     "data": {
      "text/plain": [
       "3"
      ]
     },
     "execution_count": 4,
     "metadata": {},
     "output_type": "execute_result"
    }
   ],
   "source": [
    "c = a+b;c"
   ]
  },
  {
   "cell_type": "markdown",
   "id": "2fda7d2f",
   "metadata": {},
   "source": [
    "### <h1>5: Function With 2 Arguments</h1>\n",
    "You may name your function anything you want with these <a href=\"https://www.dummies.com/article/technology/programming-web-design/python/how-to-name-functions-in-python-139550\" target=\"_\">exceptions</a>.<br>* Also, a and b are the arguments in this <a href="https://www.w3schools.com/python/gloss_python_function_arguments.asp" target"_">example</a>"
   ]
  },
  {
   "cell_type": "code",
   "execution_count": 5,
   "id": "9291515c",
   "metadata": {},
   "outputs": [
    {
     "data": {
      "text/plain": [
       "3"
      ]
     },
     "execution_count": 5,
     "metadata": {},
     "output_type": "execute_result"
    }
   ],
   "source": [
    "def function(a,b):\n",
    "    return a+b\n",
    "\n",
    "function(1,2)"
   ]
  },
  {
   "cell_type": "markdown",
   "id": "5006c484",
   "metadata": {},
   "source": [
    "## <h1><a href=\"https://www.dummies.com/article/technology/programming-web-design/python/how-to-name-functions-in-python-139550\" target=\"_\">Markdown</a> comments can be made into HTML Elements</h1>\n",
    "You're reading a markdown right now. These are a popular way of explaining code in jupyter notebooks. You may also write comments around the Python code using # commonly called a hastag."
   ]
  },
  {
   "cell_type": "code",
   "execution_count": 12,
   "id": "eb13e9f7",
   "metadata": {},
   "outputs": [
    {
     "data": {
      "text/plain": [
       "2"
      ]
     },
     "execution_count": 12,
     "metadata": {},
     "output_type": "execute_result"
    }
   ],
   "source": [
    "#this is a comment\n",
    "#it will not execute a=b;a\n",
    "#unless you write a=b;a without the pound (lb) symbol, also known as a hastag\n",
    "a=b;a"
   ]
  },
  {
   "cell_type": "code",
   "execution_count": null,
   "id": "864dde8d",
   "metadata": {},
   "outputs": [],
   "source": []
  }
 ],
 "metadata": {
  "kernelspec": {
   "display_name": "Python 3 (ipykernel)",
   "language": "python",
   "name": "python3"
  },
  "language_info": {
   "codemirror_mode": {
    "name": "ipython",
    "version": 3
   },
   "file_extension": ".py",
   "mimetype": "text/x-python",
   "name": "python",
   "nbconvert_exporter": "python",
   "pygments_lexer": "ipython3",
   "version": "3.9.7"
  }
 },
 "nbformat": 4,
 "nbformat_minor": 5
}
